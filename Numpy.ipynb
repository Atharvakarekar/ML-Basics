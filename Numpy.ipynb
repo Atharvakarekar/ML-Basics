{
  "nbformat": 4,
  "nbformat_minor": 0,
  "metadata": {
    "colab": {
      "provenance": []
    },
    "kernelspec": {
      "name": "python3",
      "display_name": "Python 3"
    },
    "language_info": {
      "name": "python"
    }
  },
  "cells": [
    {
      "cell_type": "markdown",
      "source": [
        "# ***Numpy Exercise ***\n",
        "\n",
        "Atharva Karekar"
      ],
      "metadata": {
        "id": "XrJ6mwy9aNuh"
      }
    },
    {
      "cell_type": "markdown",
      "source": [
        "**NumPy Arrays:**"
      ],
      "metadata": {
        "id": "-RMxXXRAbK21"
      }
    },
    {
      "cell_type": "code",
      "execution_count": null,
      "metadata": {
        "colab": {
          "base_uri": "https://localhost:8080/"
        },
        "id": "CcatFDMDYluW",
        "outputId": "64f13ff0-fca6-4f34-f9d5-78898e27eff3"
      },
      "outputs": [
        {
          "output_type": "stream",
          "name": "stdout",
          "text": [
            "1.23.5\n"
          ]
        }
      ],
      "source": [
        "import numpy as np\n",
        "\n",
        "# Verify installation\n",
        "print(np.__version__)\n"
      ]
    },
    {
      "cell_type": "code",
      "source": [
        "import numpy as np\n",
        "\n",
        "# Creating arrays\n",
        "arr1 = np.array([1, 2, 3])\n",
        "arr2 = np.arange(0, 10, 2)  # Array with elements from 0 to 8 with step 2\n",
        "\n",
        "# Array indexing and slicing\n",
        "print(arr1[0])\n",
        "print(arr2[2:5])\n"
      ],
      "metadata": {
        "colab": {
          "base_uri": "https://localhost:8080/"
        },
        "id": "W8YgYmuZYzsZ",
        "outputId": "de864565-82e3-432b-8a30-e4027d3336b4"
      },
      "execution_count": null,
      "outputs": [
        {
          "output_type": "stream",
          "name": "stdout",
          "text": [
            "1\n",
            "[4 6 8]\n"
          ]
        }
      ]
    },
    {
      "cell_type": "markdown",
      "source": [
        "**Data Types and Attributes**"
      ],
      "metadata": {
        "id": "cio2Q_y6bYw0"
      }
    },
    {
      "cell_type": "code",
      "source": [
        "import numpy as np\n",
        "arr1 = 5\n",
        "arr2 = 4\n",
        "# Mathematical operations\n",
        "arr3 = arr1 + arr2\n",
        "arr4 = np.square(arr1)\n",
        "\n",
        "# Element-wise operations\n",
        "arr5 = np.sin(arr1)\n",
        "\n",
        "# Broadcasting\n",
        "arr6 = arr1 * 2\n",
        "print(arr3)\n",
        "print(arr4)\n",
        "print(arr5)\n",
        "print(arr6)"
      ],
      "metadata": {
        "colab": {
          "base_uri": "https://localhost:8080/"
        },
        "id": "7sFM-pvYY3zS",
        "outputId": "b1a9e25f-cbe1-437b-8b04-53561f3aeb42"
      },
      "execution_count": null,
      "outputs": [
        {
          "output_type": "stream",
          "name": "stdout",
          "text": [
            "9\n",
            "25\n",
            "-0.9589242746631385\n",
            "10\n"
          ]
        }
      ]
    },
    {
      "cell_type": "code",
      "source": [
        "import numpy as np\n",
        "\n",
        "# Data types\n",
        "arr = np.array([1, 2, 3], dtype=np.float64)\n",
        "print(arr.dtype)\n"
      ],
      "metadata": {
        "colab": {
          "base_uri": "https://localhost:8080/"
        },
        "id": "stMMuNQ0ZU9b",
        "outputId": "7a04821e-d1cd-4cc7-c5fe-2c7e4ab40f88"
      },
      "execution_count": null,
      "outputs": [
        {
          "output_type": "stream",
          "name": "stdout",
          "text": [
            "float64\n"
          ]
        }
      ]
    },
    {
      "cell_type": "code",
      "source": [
        "import numpy as np\n",
        "\n",
        "# Array attributes\n",
        "arr = np.array([[1, 2, 3], [4, 5, 6]])\n",
        "print(arr.shape)\n",
        "print(arr.size)\n",
        "print(arr.ndim)\n"
      ],
      "metadata": {
        "colab": {
          "base_uri": "https://localhost:8080/"
        },
        "id": "lztPQE_MZX_7",
        "outputId": "7c4d8f8f-6027-42c9-f7f3-aaf60e5c5ac3"
      },
      "execution_count": null,
      "outputs": [
        {
          "output_type": "stream",
          "name": "stdout",
          "text": [
            "(2, 3)\n",
            "6\n",
            "2\n"
          ]
        }
      ]
    },
    {
      "cell_type": "markdown",
      "source": [
        "***Universal Functions (ufuncs):***"
      ],
      "metadata": {
        "id": "3RcgR6qBenmm"
      }
    },
    {
      "cell_type": "code",
      "source": [
        "import numpy as np\n",
        "\n",
        "# ufunc example\n",
        "arr = np.array([1, 2, 3])\n",
        "result = np.square(arr)\n",
        "print(result)"
      ],
      "metadata": {
        "colab": {
          "base_uri": "https://localhost:8080/"
        },
        "id": "ROoKdNHuZa7N",
        "outputId": "147c9097-11e3-4b84-ed29-134f0c8361d9"
      },
      "execution_count": null,
      "outputs": [
        {
          "output_type": "stream",
          "name": "stdout",
          "text": [
            "[1 4 9]\n"
          ]
        }
      ]
    },
    {
      "cell_type": "code",
      "source": [
        "import numpy as np\n",
        "\n",
        "# Common ufuncs\n",
        "arr = np.array([1, 2, 3])\n",
        "result1 = np.sqrt(arr)\n",
        "result2 = np.exp(arr)\n",
        "print(result1)\n",
        "print(result2)"
      ],
      "metadata": {
        "colab": {
          "base_uri": "https://localhost:8080/"
        },
        "id": "BWkZlZtzZtwA",
        "outputId": "9f1b35ff-ba58-4a62-8188-c4f76a99e080"
      },
      "execution_count": null,
      "outputs": [
        {
          "output_type": "stream",
          "name": "stdout",
          "text": [
            "[1.         1.41421356 1.73205081]\n",
            "[ 2.71828183  7.3890561  20.08553692]\n"
          ]
        }
      ]
    },
    {
      "cell_type": "markdown",
      "source": [
        "**Array Manipulation:**\n"
      ],
      "metadata": {
        "id": "MP0IGXMze43u"
      }
    },
    {
      "cell_type": "code",
      "source": [
        "import numpy as np\n",
        "\n",
        "# Reshaping\n",
        "arr = np.array([1, 2, 3, 4, 5, 6])\n",
        "reshaped_arr = arr.reshape(2, 3)\n",
        "print(arr)\n",
        "print(reshaped_arr)"
      ],
      "metadata": {
        "colab": {
          "base_uri": "https://localhost:8080/"
        },
        "id": "natY19tIZ1yM",
        "outputId": "d187cc75-2ed8-4e25-fc52-72f0dca0d80c"
      },
      "execution_count": null,
      "outputs": [
        {
          "output_type": "stream",
          "name": "stdout",
          "text": [
            "[1 2 3 4 5 6]\n",
            "[[1 2 3]\n",
            " [4 5 6]]\n"
          ]
        }
      ]
    },
    {
      "cell_type": "code",
      "source": [
        "import numpy as np\n",
        "\n",
        "# Stacking\n",
        "arr1 = np.array([1, 2, 3])\n",
        "arr2 = np.array([4, 5, 6])\n",
        "stacked_arr = np.stack((arr1, arr2))\n",
        "\n",
        "# Splitting\n",
        "split_arr = np.split(stacked_arr, 2)\n",
        "print(split_arr)"
      ],
      "metadata": {
        "colab": {
          "base_uri": "https://localhost:8080/"
        },
        "id": "UiSAntWvaHri",
        "outputId": "ba75b9b9-2fee-41d1-9c61-6b5887bc298a"
      },
      "execution_count": null,
      "outputs": [
        {
          "output_type": "stream",
          "name": "stdout",
          "text": [
            "[array([[1, 2, 3]]), array([[4, 5, 6]])]\n"
          ]
        }
      ]
    },
    {
      "cell_type": "markdown",
      "source": [
        "**Adding and removing elements:**"
      ],
      "metadata": {
        "id": "o1h7My6lfM-C"
      }
    },
    {
      "cell_type": "code",
      "source": [
        "import numpy as np\n",
        "\n",
        "# Adding elements\n",
        "arr = np.array([1, 2, 3])\n",
        "new_arr = np.append(arr, 4)\n",
        "print(\"Array after adding element:\", new_arr)\n",
        "\n",
        "# Removing elements\n",
        "arr_without_last = np.delete(arr, -1)\n",
        "print(\"Array after removing last element:\", arr_without_last)\n"
      ],
      "metadata": {
        "colab": {
          "base_uri": "https://localhost:8080/"
        },
        "id": "Ni5Vt49gamjN",
        "outputId": "99d383cf-99e6-44f4-fa59-b461f96767fd"
      },
      "execution_count": null,
      "outputs": [
        {
          "output_type": "stream",
          "name": "stdout",
          "text": [
            "Array after adding element: [1 2 3 4]\n",
            "Array after removing last element: [1 2]\n"
          ]
        }
      ]
    },
    {
      "cell_type": "markdown",
      "source": [
        "**Indexing and Slicing:**"
      ],
      "metadata": {
        "id": "vmMwkmqFfVWE"
      }
    },
    {
      "cell_type": "code",
      "source": [
        "import numpy as np\n",
        "\n",
        "# Boolean indexing\n",
        "arr = np.array([1, 2, 3, 4, 5])\n",
        "bool_index = arr > 2\n",
        "filtered_arr = arr[bool_index]\n",
        "print(\"Array after boolean indexing:\", filtered_arr)\n",
        "\n",
        "# Fancy indexing\n",
        "arr_indices = np.array([0, 2, 4])\n",
        "selected_elements = arr[arr_indices]\n",
        "print(\"Selected elements using fancy indexing:\", selected_elements)\n"
      ],
      "metadata": {
        "colab": {
          "base_uri": "https://localhost:8080/"
        },
        "id": "9WrSNt50fanK",
        "outputId": "75e296f7-1876-4b8b-83ad-0e5a09d31323"
      },
      "execution_count": null,
      "outputs": [
        {
          "output_type": "stream",
          "name": "stdout",
          "text": [
            "Array after boolean indexing: [3 4 5]\n",
            "Selected elements using fancy indexing: [1 3 5]\n"
          ]
        }
      ]
    },
    {
      "cell_type": "code",
      "source": [
        "import numpy as np\n",
        "\n",
        "# Slicing\n",
        "arr = np.array([1, 2, 3, 4, 5])\n",
        "sliced_arr = arr[1:4]\n",
        "print(\"Sliced array:\", sliced_arr)\n"
      ],
      "metadata": {
        "colab": {
          "base_uri": "https://localhost:8080/"
        },
        "id": "ubpOQRydfh_-",
        "outputId": "9448cb98-7be8-444f-9654-2f3dea1dd910"
      },
      "execution_count": null,
      "outputs": [
        {
          "output_type": "stream",
          "name": "stdout",
          "text": [
            "Sliced array: [2 3 4]\n"
          ]
        }
      ]
    },
    {
      "cell_type": "markdown",
      "source": [
        "**Linear Algebra with NumPy:**\n"
      ],
      "metadata": {
        "id": "53BRaidtfnvp"
      }
    },
    {
      "cell_type": "code",
      "source": [
        "import numpy as np\n",
        "\n",
        "# Matrix operations\n",
        "matrix1 = np.array([[1, 2], [3, 4]])\n",
        "matrix2 = np.array([[5, 6], [7, 8]])\n",
        "matrix_product = np.dot(matrix1, matrix2)\n",
        "print(\"Matrix product:\\n\", matrix_product)\n",
        "\n",
        "# Inverse and determinant\n",
        "inv_matrix1 = np.linalg.inv(matrix1)\n",
        "det_matrix2 = np.linalg.det(matrix2)\n",
        "print(\"Inverse of matrix1:\\n\", inv_matrix1)\n",
        "print(\"Determinant of matrix2:\", det_matrix2)\n"
      ],
      "metadata": {
        "colab": {
          "base_uri": "https://localhost:8080/"
        },
        "id": "pMA4cPKGfpb8",
        "outputId": "7bf69072-ea6d-4e9d-9fd6-38edc8b4016b"
      },
      "execution_count": null,
      "outputs": [
        {
          "output_type": "stream",
          "name": "stdout",
          "text": [
            "Matrix product:\n",
            " [[19 22]\n",
            " [43 50]]\n",
            "Inverse of matrix1:\n",
            " [[-2.   1. ]\n",
            " [ 1.5 -0.5]]\n",
            "Determinant of matrix2: -2.000000000000005\n"
          ]
        }
      ]
    },
    {
      "cell_type": "code",
      "source": [
        "import numpy as np\n",
        "\n",
        "# Solving linear equations\n",
        "coeff_matrix = np.array([[2, 3], [4, 5]])\n",
        "constants = np.array([10, 20])\n",
        "solution = np.linalg.solve(coeff_matrix, constants)\n",
        "print(\"Solution to linear equations:\", solution)\n"
      ],
      "metadata": {
        "colab": {
          "base_uri": "https://localhost:8080/"
        },
        "id": "CujDyqu5fuPr",
        "outputId": "0bcb3104-1883-4643-f11a-da889518ffc2"
      },
      "execution_count": null,
      "outputs": [
        {
          "output_type": "stream",
          "name": "stdout",
          "text": [
            "Solution to linear equations: [5. 0.]\n"
          ]
        }
      ]
    },
    {
      "cell_type": "markdown",
      "source": [
        "**Random in NumPy:**"
      ],
      "metadata": {
        "id": "ptP00khEfytK"
      }
    },
    {
      "cell_type": "code",
      "source": [
        "import numpy as np\n",
        "\n",
        "# Generating random numbers\n",
        "rand_num = np.random.rand()  # Random float between 0 and 1\n",
        "rand_arr = np.random.randn(3, 3)  # Random array from standard normal distribution\n",
        "print(\"Random number:\", rand_num)\n",
        "print(\"Random array:\\n\", rand_arr)\n",
        "\n",
        "# Simulating random processes with NumPy:\n",
        "\n",
        "import numpy as np\n",
        "\n",
        "# Simulating random processes\n",
        "random_walk = np.cumsum(np.random.choice([-1, 1], size=100))\n",
        "print(\"Random walk simulation:\", random_walk)\n"
      ],
      "metadata": {
        "colab": {
          "base_uri": "https://localhost:8080/"
        },
        "id": "qWPNnNi4f0lJ",
        "outputId": "a85608f5-36c5-4303-fab6-aa41e79d7afd"
      },
      "execution_count": null,
      "outputs": [
        {
          "output_type": "stream",
          "name": "stdout",
          "text": [
            "Random number: 0.28727926436184203\n",
            "Random array:\n",
            " [[-0.37038755  0.56706952 -1.59914728]\n",
            " [ 0.95140024  2.54106788 -1.88419803]\n",
            " [ 1.18076182  0.57079348  0.1958417 ]]\n",
            "Random walk simulation: [ 1  2  1  2  1  0  1  0 -1  0 -1  0  1  2  1  2  1  2  1  2  1  0  1  2\n",
            "  3  2  3  4  5  4  5  6  7  8  9  8  7  8  7  6  7  6  5  4  5  6  5  4\n",
            "  3  4  3  2  3  2  3  4  3  2  3  2  3  2  3  2  3  4  5  6  5  6  5  4\n",
            "  3  2  3  2  1  2  1  2  3  4  5  6  7  6  7  8  7  6  5  4  3  4  3  2\n",
            "  1  0 -1  0]\n"
          ]
        }
      ]
    },
    {
      "cell_type": "markdown",
      "source": [
        "**Performance Optimization:**"
      ],
      "metadata": {
        "id": "Deg9KD6DgBPK"
      }
    },
    {
      "cell_type": "code",
      "source": [
        "import numpy as np\n",
        "import time\n",
        "\n",
        "# Vectorized operation\n",
        "arr1 = np.random.rand(1000000)\n",
        "arr2 = np.random.rand(1000000)\n",
        "\n",
        "# Using NumPy\n",
        "start_time = time.time()\n",
        "result = np.dot(arr1, arr2)\n",
        "end_time = time.time()\n",
        "print(\"Time taken with NumPy:\", end_time - start_time)\n"
      ],
      "metadata": {
        "colab": {
          "base_uri": "https://localhost:8080/"
        },
        "id": "5kk4mpLFgH3W",
        "outputId": "cfeb92f0-5a6d-4e45-9881-859c407e9c2c"
      },
      "execution_count": null,
      "outputs": [
        {
          "output_type": "stream",
          "name": "stdout",
          "text": [
            "Time taken with NumPy: 0.005915164947509766\n"
          ]
        }
      ]
    },
    {
      "cell_type": "markdown",
      "source": [
        "Comparing performance with traditional Python lists:"
      ],
      "metadata": {
        "id": "SpnpGkSBjVaO"
      }
    },
    {
      "cell_type": "code",
      "source": [
        "import time\n",
        "\n",
        "# Using Python lists\n",
        "list1 = [i for i in range(1000000)]\n",
        "list2 = [i for i in range(1000000)]\n",
        "\n",
        "# Without NumPy\n",
        "start_time = time.time()\n",
        "result = sum(i*j for i, j in zip(list1, list2))\n",
        "end_time = time.time()\n",
        "print(\"Time taken without NumPy:\", end_time - start_time)\n"
      ],
      "metadata": {
        "colab": {
          "base_uri": "https://localhost:8080/"
        },
        "id": "1GH3tbz-jZRe",
        "outputId": "16eb25cf-5699-45fa-ce66-82aaf3de4d5c"
      },
      "execution_count": null,
      "outputs": [
        {
          "output_type": "stream",
          "name": "stdout",
          "text": [
            "Time taken without NumPy: 0.23709678649902344\n"
          ]
        }
      ]
    },
    {
      "cell_type": "markdown",
      "source": [
        "**NumPy and Data Science**"
      ],
      "metadata": {
        "id": "U13sGmxqjol5"
      }
    },
    {
      "cell_type": "code",
      "source": [
        "import numpy as np\n",
        "import pandas as pd\n",
        "from sklearn.model_selection import train_test_split\n",
        "\n",
        "# Integration with pandas\n",
        "data = {'A': [1, 2, 3], 'B': [4, 5, 6]}\n",
        "df = pd.DataFrame(data)\n",
        "print(\"DataFrame from NumPy array:\\n\", df)\n",
        "\n",
        "# Integration with scikit-learn\n",
        "X, y = np.arange(10).reshape((5, 2)), range(5)\n",
        "X_train, X_test, y_train, y_test = train_test_split(X, y, test_size=0.2)\n",
        "print(\"Train and test sets:\\n\", X_train, X_test, y_train, y_test)\n"
      ],
      "metadata": {
        "colab": {
          "base_uri": "https://localhost:8080/"
        },
        "id": "BHfkeYbyjffm",
        "outputId": "91ac1535-0d51-4d1b-fac2-b26b9e580b52"
      },
      "execution_count": null,
      "outputs": [
        {
          "output_type": "stream",
          "name": "stdout",
          "text": [
            "DataFrame from NumPy array:\n",
            "    A  B\n",
            "0  1  4\n",
            "1  2  5\n",
            "2  3  6\n",
            "Train and test sets:\n",
            " [[0 1]\n",
            " [8 9]\n",
            " [6 7]\n",
            " [2 3]] [[4 5]] [0, 4, 3, 1] [2]\n"
          ]
        }
      ]
    },
    {
      "cell_type": "markdown",
      "source": [
        "Examples of NumPy usage in real-world data analysis tasks:"
      ],
      "metadata": {
        "id": "IhhXA18bjtAO"
      }
    },
    {
      "cell_type": "code",
      "source": [
        "import numpy as np\n",
        "import pandas as pd\n",
        "\n",
        "# Data analysis example\n",
        "data = {'Name': ['Alice', 'Bob', 'Charlie'],\n",
        "        'Age': [25, 30, 22],\n",
        "        'Salary': [50000, 60000, 45000]}\n",
        "\n",
        "df = pd.DataFrame(data)\n",
        "mean_salary = np.mean(df['Salary'])\n",
        "print(\"Mean salary:\", mean_salary)\n"
      ],
      "metadata": {
        "colab": {
          "base_uri": "https://localhost:8080/"
        },
        "id": "gn5278MzjzC6",
        "outputId": "1dec4431-007b-475c-c676-539ce222c61f"
      },
      "execution_count": null,
      "outputs": [
        {
          "output_type": "stream",
          "name": "stdout",
          "text": [
            "Mean salary: 51666.666666666664\n"
          ]
        }
      ]
    }
  ]
}